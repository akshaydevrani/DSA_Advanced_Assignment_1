{
 "cells": [
  {
   "cell_type": "code",
   "execution_count": 1,
   "id": "f345eb81",
   "metadata": {},
   "outputs": [
    {
     "name": "stdout",
     "output_type": "stream",
     "text": [
      "5 -> "
     ]
    }
   ],
   "source": [
    "#Q1. Delete the elements in an linked list whose sum is equal to zero.\n",
    "\n",
    "class ListNode:\n",
    "    def __init__(self, value):\n",
    "        self.value = value\n",
    "        self.next = None\n",
    "\n",
    "def delete_zero_sum_sublists(head):\n",
    "    dummy = ListNode(0)\n",
    "    dummy.next = head\n",
    "    current = dummy\n",
    "    prefix_sum = 0\n",
    "    prefix_sums = {}  # Store prefix sums along with corresponding node\n",
    "    \n",
    "    while current:\n",
    "        prefix_sum += current.value\n",
    "        \n",
    "        if prefix_sum in prefix_sums:\n",
    "            # Remove nodes between prefix_sums[prefix_sum] and current\n",
    "            prev = prefix_sums[prefix_sum].next\n",
    "            temp_sum = prefix_sum\n",
    "            \n",
    "            while prev != current:\n",
    "                temp_sum += prev.value\n",
    "                del prefix_sums[temp_sum]\n",
    "                prev = prev.next\n",
    "            \n",
    "            prefix_sums[prefix_sum].next = current.next\n",
    "        else:\n",
    "            prefix_sums[prefix_sum] = current\n",
    "        \n",
    "        current = current.next\n",
    "    \n",
    "    return dummy.next\n",
    "# Create the linked list: 3 -> 4 -> -7 -> 5 -> -6 -> 6\n",
    "head = ListNode(3)\n",
    "head.next = ListNode(4)\n",
    "head.next.next = ListNode(-7)\n",
    "head.next.next.next = ListNode(5)\n",
    "head.next.next.next.next = ListNode(-6)\n",
    "head.next.next.next.next.next = ListNode(6)\n",
    "\n",
    "new_head = delete_zero_sum_sublists(head)\n",
    "\n",
    "# Print the updated linked list\n",
    "current = new_head\n",
    "while current:\n",
    "    print(current.value, end=\" -> \")\n",
    "    current = current.next    "
   ]
  },
  {
   "cell_type": "code",
   "execution_count": 3,
   "id": "4c57dfbd",
   "metadata": {},
   "outputs": [
    {
     "name": "stdout",
     "output_type": "stream",
     "text": [
      "Given linked list\n",
      "1 2 3 4 5 6 7 8 9 \n",
      "Reversed Linked list\n",
      "3 2 1 6 5 4 9 8 7 "
     ]
    }
   ],
   "source": [
    "#Q2. Reverse a linked list in groups of given size.\n",
    "\n",
    "class Node:  \n",
    "    \n",
    "    def __init__(self, data):\n",
    "        self.data = data\n",
    "        self.next = None        \n",
    "  \n",
    "class LinkedList:  \n",
    "    \n",
    "    def __init__(self):\n",
    "        self.head = None\n",
    "  \n",
    "    def reverse(self, head, k):\n",
    "        \n",
    "        if head == None:\n",
    "          return None\n",
    "        current = head\n",
    "        next = None\n",
    "        prev = None\n",
    "        count = 0  \n",
    "       \n",
    "        while(current is not None and count < k):\n",
    "            next = current.next\n",
    "            current.next = prev\n",
    "            prev = current\n",
    "            current = next\n",
    "            count += 1  \n",
    "        \n",
    "        if next is not None:\n",
    "            head.next = self.reverse(next, k)  \n",
    "        \n",
    "        return prev  \n",
    "    \n",
    "    def push(self, new_data):\n",
    "        new_node = Node(new_data)\n",
    "        new_node.next = self.head\n",
    "        self.head = new_node  \n",
    "    \n",
    "    def printList(self):\n",
    "        temp = self.head\n",
    "        while(temp):\n",
    "            print(temp.data,end=' ')\n",
    "            temp = temp.next  \n",
    "  \n",
    "llist = LinkedList()\n",
    "llist.push(9)\n",
    "llist.push(8)\n",
    "llist.push(7)\n",
    "llist.push(6)\n",
    "llist.push(5)\n",
    "llist.push(4)\n",
    "llist.push(3)\n",
    "llist.push(2)\n",
    "llist.push(1)\n",
    "  \n",
    "print(\"Given linked list\")\n",
    "llist.printList()\n",
    "llist.head = llist.reverse(llist.head, 3)\n",
    "  \n",
    "print (\"\\nReversed Linked list\")\n",
    "llist.printList()"
   ]
  },
  {
   "cell_type": "code",
   "execution_count": 4,
   "id": "bea3119f",
   "metadata": {},
   "outputs": [
    {
     "name": "stdout",
     "output_type": "stream",
     "text": [
      "1 -> 2 -> 3 -> 4 -> 5 -> 6 -> 7 -> None\n"
     ]
    }
   ],
   "source": [
    "#Q3. Merge a linked list into another linked list at alternate positions.\n",
    "\n",
    "class Node:\n",
    "    def __init__(self, data):\n",
    "        self.data = data\n",
    "        self.next = None\n",
    "def merge_alternate(head1, head2):\n",
    "    if not head1:\n",
    "        return head2\n",
    "    if not head2:\n",
    "        return head1\n",
    "    \n",
    "    current1 = head1\n",
    "    current2 = head2\n",
    "    while current1 and current2:\n",
    "        next1 = current1.next\n",
    "        next2 = current2.next\n",
    "        \n",
    "        current1.next = current2\n",
    "        current2.next = next1\n",
    "        \n",
    "        current1 = next1\n",
    "        current2 = next2\n",
    "    \n",
    "    return head1 \n",
    "head1 = Node(1)\n",
    "head1.next = Node(3)\n",
    "head1.next.next = Node(5)\n",
    "head1.next.next.next = Node(7)\n",
    "\n",
    "head2 = Node(2)\n",
    "head2.next = Node(4)\n",
    "head2.next.next = Node(6)\n",
    "\n",
    "merged_head = merge_alternate(head1, head2)\n",
    "\n",
    "current = merged_head\n",
    "while current:\n",
    "    print(current.data, end=\" -> \")\n",
    "    current = current.next\n",
    "print(\"None\")"
   ]
  },
  {
   "cell_type": "code",
   "execution_count": 9,
   "id": "cbc2d3ac",
   "metadata": {},
   "outputs": [
    {
     "name": "stdout",
     "output_type": "stream",
     "text": [
      "Number of pairs with sum 6 : 3\n"
     ]
    }
   ],
   "source": [
    "#Q4. In an array, Count Pairs with given sum.\n",
    "\n",
    "def count_pairs_with_sum(arr, target_sum):\n",
    "    count = 0\n",
    "    seen = set()\n",
    "    \n",
    "    for num in arr:\n",
    "        complement = target_sum - num\n",
    "        \n",
    "        if complement in seen:\n",
    "            count += 1\n",
    "        \n",
    "        seen.add(num)\n",
    "    \n",
    "    return count\n",
    "\n",
    "arr = [1, 5, 7, -1, 5]\n",
    "target_sum = 6\n",
    "result = count_pairs_with_sum(arr, target_sum)\n",
    "print(\"Number of pairs with sum\", target_sum, \":\", result)"
   ]
  },
  {
   "cell_type": "code",
   "execution_count": 14,
   "id": "893ae6df",
   "metadata": {},
   "outputs": [
    {
     "name": "stdout",
     "output_type": "stream",
     "text": [
      "Duplicate elements: [2, 4, 8]\n"
     ]
    }
   ],
   "source": [
    "#Q5. Find duplicates in an array.\n",
    "\n",
    "def find_duplicates(arr):\n",
    "    seen = set()\n",
    "    duplicates = []\n",
    "\n",
    "    for num in arr:\n",
    "        if num in seen:\n",
    "            duplicates.append(num)\n",
    "        else:\n",
    "            seen.add(num)\n",
    "\n",
    "    return duplicates\n",
    "\n",
    "arr = [4, 3, 2, 7, 8, 2, 6, 4, 8]\n",
    "duplicate_elements = find_duplicates(arr)\n",
    "print(\"Duplicate elements:\", duplicate_elements)"
   ]
  },
  {
   "cell_type": "code",
   "execution_count": 17,
   "id": "ec8be909",
   "metadata": {},
   "outputs": [
    {
     "name": "stdout",
     "output_type": "stream",
     "text": [
      "3th smallest: 3\n",
      "3th largest: 4\n"
     ]
    }
   ],
   "source": [
    "#Q6. Find the Kth largest and Kth smallest number in an array.\n",
    "\n",
    "def kth_largest_and_smallest(arr, k):\n",
    "    arr.sort()\n",
    "    kth_smallest = arr[k - 1]\n",
    "    kth_largest = arr[-k]\n",
    "    return kth_smallest, kth_largest\n",
    "\n",
    "arr = [3, 1, 7, 2, 8, 4]\n",
    "k = 3\n",
    "kth_smallest, kth_largest = kth_largest_and_smallest(arr, k)\n",
    "print(f\"{k}th smallest: {kth_smallest}\")\n",
    "print(f\"{k}th largest: {kth_largest}\")"
   ]
  },
  {
   "cell_type": "code",
   "execution_count": 18,
   "id": "e109545b",
   "metadata": {},
   "outputs": [
    {
     "name": "stdout",
     "output_type": "stream",
     "text": [
      "[-1, -7, -3, -6, 5, 4, 2, 8, 9]\n"
     ]
    }
   ],
   "source": [
    "#Q7. Move all the negative elements to one side of the array.\n",
    "\n",
    "def move_negatives_to_one_side(arr):\n",
    "    left, right = 0, len(arr) - 1\n",
    "    \n",
    "    while left <= right:\n",
    "        if arr[left] < 0 and arr[right] < 0:\n",
    "            left += 1\n",
    "        elif arr[left] >= 0 and arr[right] < 0:\n",
    "            arr[left], arr[right] = arr[right], arr[left]\n",
    "            left += 1\n",
    "            right -= 1\n",
    "        elif arr[left] >= 0 and arr[right] >= 0:\n",
    "            right -= 1\n",
    "        else:\n",
    "            left += 1\n",
    "            right -= 1\n",
    "    \n",
    "    return arr\n",
    "arr = [-1, 2, -3, 4, 5, -6, -7, 8, 9]\n",
    "result = move_negatives_to_one_side(arr)\n",
    "print(result)"
   ]
  },
  {
   "cell_type": "code",
   "execution_count": 19,
   "id": "cae9e72a",
   "metadata": {},
   "outputs": [
    {
     "name": "stdout",
     "output_type": "stream",
     "text": [
      "!ecneicS ataD\n"
     ]
    }
   ],
   "source": [
    "#Q8. Reverse a string using a stack data structure.\n",
    "\n",
    "def reverse_string(input_string):\n",
    "    stack = []\n",
    "    \n",
    "    for char in input_string:\n",
    "        stack.append(char)\n",
    "    \n",
    "    reversed_string = \"\"\n",
    "    while stack:\n",
    "        reversed_string += stack.pop()\n",
    "    \n",
    "    return reversed_string\n",
    "\n",
    "input_str = \"Data Science!\"\n",
    "reversed_str = reverse_string(input_str)\n",
    "print(reversed_str)"
   ]
  },
  {
   "cell_type": "code",
   "execution_count": 21,
   "id": "35cc05e6",
   "metadata": {},
   "outputs": [
    {
     "name": "stdout",
     "output_type": "stream",
     "text": [
      "15\n"
     ]
    }
   ],
   "source": [
    "#Q9. Evaluate a postfix expression using stack.\n",
    "\n",
    "def evaluate_postfix(expression):\n",
    "    stack = []\n",
    "    \n",
    "    for char in expression:\n",
    "        if char.isdigit():\n",
    "            stack.append(int(char))\n",
    "        else:\n",
    "            operand2 = stack.pop()\n",
    "            operand1 = stack.pop()\n",
    "            if char == '+':\n",
    "                stack.append(operand1 + operand2)\n",
    "            elif char == '-':\n",
    "                stack.append(operand1 - operand2)\n",
    "            elif char == '*':\n",
    "                stack.append(operand1 * operand2)\n",
    "            elif char == '/':\n",
    "                stack.append(operand1 / operand2)\n",
    "    \n",
    "    return stack.pop()\n",
    "\n",
    "postfix_expr = \"12+5*\"\n",
    "result = evaluate_postfix(postfix_expr)\n",
    "print(result)"
   ]
  },
  {
   "cell_type": "code",
   "execution_count": 24,
   "id": "89e8d593",
   "metadata": {},
   "outputs": [
    {
     "name": "stdout",
     "output_type": "stream",
     "text": [
      "1\n",
      "2\n",
      "3\n"
     ]
    }
   ],
   "source": [
    "#Q10. Implement a queue using the stack data structure.\n",
    "\n",
    "class QueueUsingStacks:\n",
    "    def __init__(self):\n",
    "        self.enqueue_stack = []\n",
    "        self.dequeue_stack = []\n",
    "\n",
    "    def enqueue(self, item):\n",
    "        self.enqueue_stack.append(item)\n",
    "\n",
    "    def _transfer_elements(self):\n",
    "        while self.enqueue_stack:\n",
    "            self.dequeue_stack.append(self.enqueue_stack.pop())\n",
    "\n",
    "    def dequeue(self):\n",
    "        if not self.dequeue_stack:\n",
    "            if not self.enqueue_stack:\n",
    "                raise IndexError(\"Queue is empty\")\n",
    "            self._transfer_elements()\n",
    "        return self.dequeue_stack.pop()\n",
    "\n",
    "    def is_empty(self):\n",
    "        return not (self.enqueue_stack or self.dequeue_stack)\n",
    "\n",
    "    def size(self):\n",
    "        return len(self.enqueue_stack) + len(self.dequeue_stack)\n",
    "\n",
    "queue = QueueUsingStacks()\n",
    "queue.enqueue(1)\n",
    "queue.enqueue(2)\n",
    "queue.enqueue(3)\n",
    "\n",
    "print(queue.dequeue())  \n",
    "print(queue.dequeue())  \n",
    "print(queue.dequeue())"
   ]
  }
 ],
 "metadata": {
  "kernelspec": {
   "display_name": "Python 3 (ipykernel)",
   "language": "python",
   "name": "python3"
  },
  "language_info": {
   "codemirror_mode": {
    "name": "ipython",
    "version": 3
   },
   "file_extension": ".py",
   "mimetype": "text/x-python",
   "name": "python",
   "nbconvert_exporter": "python",
   "pygments_lexer": "ipython3",
   "version": "3.11.3"
  }
 },
 "nbformat": 4,
 "nbformat_minor": 5
}
